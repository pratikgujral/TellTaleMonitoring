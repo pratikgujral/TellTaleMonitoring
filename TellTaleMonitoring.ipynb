{
 "cells": [
  {
   "cell_type": "code",
   "execution_count": 1,
   "metadata": {},
   "outputs": [],
   "source": [
    "import cv2\n",
    "import numpy as np"
   ]
  },
  {
   "cell_type": "code",
   "execution_count": 4,
   "metadata": {},
   "outputs": [],
   "source": [
    "cap = cv2.VideoCapture(0)\n",
    "_, img = cap.read()\n",
    "cv2.imshow('image', img)\n",
    "cv2.waitKey(0)\n",
    "cap.release()\n",
    "cv2.destroyAllWindows()"
   ]
  },
  {
   "cell_type": "code",
   "execution_count": 4,
   "metadata": {},
   "outputs": [],
   "source": [
    "def save_initial():\n",
    "    '''Used to save initial picture of the speedometer to be later used for different computations. \n",
    "    Saves a \"reference.jpg\" file in the current working directory'''\n",
    "    try:\n",
    "        cap = cv2.VideoCapture(0)\n",
    "        while True:\n",
    "            _,frame = cap.read()\n",
    "            frame_gray = cv2.cvtColor(frame, cv2.COLOR_BGR2GRAY)\n",
    "            frame_gray_copy = np.copy(frame_gray)\n",
    "            cv2.putText(frame_gray_copy, \"Press 's' to save image\", (0,25), 2, 0.9, (255,255,255), 1, cv2.LINE_AA, False)\n",
    "            cv2.line(frame_gray_copy, (0,30), (frame_gray_copy.shape[1], 30), (255,255,255))\n",
    "            cv2.imshow('frame', frame_gray_copy)\n",
    "            k = cv2.waitKey(1) & 0xFF\n",
    "            if k in [115, 83]:\n",
    "                cv2.imwrite('reference.jpg', frame_gray)\n",
    "                print('Image Saved')\n",
    "                break\n",
    "            elif k == 27:\n",
    "                break\n",
    "    except:\n",
    "        print('An error has occurred.')\n",
    "    cap.release()\n",
    "    cv2.destroyAllWindows()"
   ]
  },
  {
   "cell_type": "code",
   "execution_count": 5,
   "metadata": {
    "scrolled": true
   },
   "outputs": [
    {
     "name": "stdout",
     "output_type": "stream",
     "text": [
      "Image Saved\n"
     ]
    }
   ],
   "source": []
  },
  {
   "cell_type": "code",
   "execution_count": null,
   "metadata": {},
   "outputs": [],
   "source": []
  }
 ],
 "metadata": {
  "kernelspec": {
   "display_name": "Python 3",
   "language": "python",
   "name": "python3"
  },
  "language_info": {
   "codemirror_mode": {
    "name": "ipython",
    "version": 3
   },
   "file_extension": ".py",
   "mimetype": "text/x-python",
   "name": "python",
   "nbconvert_exporter": "python",
   "pygments_lexer": "ipython3",
   "version": "3.6.4"
  }
 },
 "nbformat": 4,
 "nbformat_minor": 2
}
