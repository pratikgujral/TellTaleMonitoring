{
 "cells": [
  {
   "cell_type": "code",
   "execution_count": null,
   "metadata": {},
   "outputs": [],
   "source": [
    "import cv2\n",
    "import numpy as np"
   ]
  },
  {
   "cell_type": "code",
   "execution_count": null,
   "metadata": {},
   "outputs": [],
   "source": [
    "def save_initial():\n",
    "    '''Used to save initial picture of the speedometer to be later used for different computations. \n",
    "    Saves a \"reference.jpg\" file in the current working directory'''\n",
    "    try:\n",
    "        cap = cv2.VideoCapture(0)\n",
    "        while True:\n",
    "            _,frame = cap.read()\n",
    "            frame_gray = cv2.cvtColor(frame, cv2.COLOR_BGR2GRAY)\n",
    "            frame_gray_copy = np.copy(frame_gray)\n",
    "            cv2.putText(frame_gray_copy, \"Press 's' to save image\", (0,25), 2, 0.9, (255,255,255), 1, cv2.LINE_AA, False)\n",
    "            cv2.line(frame_gray_copy, (0,30), (frame_gray_copy.shape[1], 30), (255,255,255))\n",
    "            cv2.imshow('frame', frame_gray_copy)\n",
    "            k = cv2.waitKey(1) & 0xFF\n",
    "            if k in [115, 83]:\n",
    "                cv2.imwrite('reference.jpg', frame_gray)\n",
    "                print('Image Saved')\n",
    "                break\n",
    "            elif k == 27:\n",
    "                break\n",
    "    except:\n",
    "        print('An error has occurred.')\n",
    "    cap.release()\n",
    "    cv2.destroyAllWindows()"
   ]
  },
  {
   "cell_type": "code",
   "execution_count": null,
   "metadata": {
    "scrolled": false
   },
   "outputs": [],
   "source": [
    "def compute_sum_thresh(frame, tolerance_percent=5):\n",
    "    return_value = {'pixel_sum':-1, 'lower_limit':-1, 'upper_limit':-1}\n",
    "    return_value['pixel_sum'] = np.sum(frame/ frame.size)\n",
    "    return_value['lower_limit'] = return_value['pixel_sum']*(1-tolerance_percent/100)\n",
    "    return_value['upper_limit'] = return_value['pixel_sum']*(1+tolerance_percent/100)\n",
    "    return return_value"
   ]
  },
  {
   "cell_type": "code",
   "execution_count": null,
   "metadata": {},
   "outputs": [],
   "source": [
    "def compare(filename='reference.jpg'):\n",
    "    tolerance_percent = 2\n",
    "    # Read the image\n",
    "    reference_img = cv2.imread(filename, 0)\n",
    "    \n",
    "    ref_img_values = compute_sum_thresh(reference_img, tolerance_percent)\n",
    "    cv2.imshow('Reference Image', reference_img)\n",
    "    \n",
    "    print(\"\\nDisplaying reference image.\\nPress 'Esc' to exit, any other key to continue.\")\n",
    "    k = cv2.waitKey(0)\n",
    "    if k == 27:\n",
    "        cv2.destroyAllWindows()\n",
    "        return\n",
    "    \n",
    "    cap = cv2.VideoCapture(0)\n",
    "    while True:\n",
    "        _, frame = cap.read()\n",
    "        frame_gray = cv2.cvtColor(frame, cv2.COLOR_BGR2GRAY)\n",
    "        frame_values = compute_sum_thresh(frame_gray, tolerance_percent)\n",
    "        \n",
    "        okng_text = \"\"\n",
    "        okng_color = (0,0,0)\n",
    "        if frame_values['pixel_sum'] > ref_img_values['upper_limit'] or frame_values['pixel_sum'] < ref_img_values['lower_limit']:\n",
    "            okng_text = 'NG'\n",
    "            okng_color = (0,0,255)\n",
    "        else:\n",
    "            okng_text = 'OK'\n",
    "            okng_color = (0,255,0)\n",
    "        \n",
    "        blackpart = np.zeros((30, frame_gray.shape[1]), dtype='uint8')\n",
    "        text_blackpart1 = \"Desired: [\" + str(ref_img_values['lower_limit']) + ', '+ str(ref_img_values['upper_limit']) +']'\n",
    "        text_blackpart2 = \"Current: \" + str(frame_values['pixel_sum'])\n",
    "        \n",
    "        frame_gray = np.vstack((frame_gray, blackpart))\n",
    "        \n",
    "        cv2.putText(frame_gray,text_blackpart1+' '*10+text_blackpart2,(10,frame_gray.shape[0]-10),2,0.4,(255,255,255),1, cv2.LINE_AA)\n",
    "        \n",
    "        frame_output = cv2.cvtColor(frame_gray, cv2.COLOR_GRAY2BGR)\n",
    "        cv2.putText(frame_output, okng_text, (10,25), 2, 1.2, okng_color, 1, cv2.LINE_AA)\n",
    "        \n",
    "        print(text_blackpart1, '\\t', text_blackpart2)\n",
    "        cv2.imshow('Output', frame_output)\n",
    "        \n",
    "        k = cv2.waitKey(1) & 0xFF\n",
    "        if k == 27:\n",
    "            cap.release()\n",
    "            break\n",
    "    cv2.destroyAllWindows()"
   ]
  },
  {
   "cell_type": "code",
   "execution_count": null,
   "metadata": {},
   "outputs": [],
   "source": [
    "save_initial()"
   ]
  },
  {
   "cell_type": "code",
   "execution_count": null,
   "metadata": {},
   "outputs": [],
   "source": [
    "compare()"
   ]
  },
  {
   "cell_type": "code",
   "execution_count": null,
   "metadata": {},
   "outputs": [],
   "source": []
  },
  {
   "cell_type": "code",
   "execution_count": null,
   "metadata": {},
   "outputs": [],
   "source": []
  },
  {
   "cell_type": "code",
   "execution_count": null,
   "metadata": {},
   "outputs": [],
   "source": []
  },
  {
   "cell_type": "code",
   "execution_count": null,
   "metadata": {},
   "outputs": [],
   "source": [
    "import  cv2\n",
    "import numpy as np"
   ]
  },
  {
   "cell_type": "code",
   "execution_count": null,
   "metadata": {},
   "outputs": [],
   "source": [
    "ipc_image_url = 'baleno.jpg'\n",
    "seatbelt_image_url = 'seatbelt.jpg'"
   ]
  },
  {
   "cell_type": "code",
   "execution_count": null,
   "metadata": {},
   "outputs": [],
   "source": [
    "def draw_rectangle(img, topleft, bottomright,color=[0,255,0]):\n",
    "    cv2.rectangle(img, topleft, bottomright, color, 1)\n",
    "    return img"
   ]
  },
  {
   "cell_type": "code",
   "execution_count": null,
   "metadata": {},
   "outputs": [],
   "source": [
    "def create_pyramid(img,factor=0.98):\n",
    "    pyramid = []\n",
    "    pyramid.append(img)\n",
    "    small_image = np.copy(img)\n",
    "    while small_image.shape[0] >= 200:\n",
    "        print(small_image.shape)\n",
    "        small_image = cv2.resize(small_image, None, fx=0.7, fy=0.7,interpolation=cv2.INTER_AREA)\n",
    "        pyramid.append(small_image)\n",
    "    return pyramid"
   ]
  },
  {
   "cell_type": "code",
   "execution_count": null,
   "metadata": {},
   "outputs": [],
   "source": [
    "threshold = 0.98\n",
    "ipc_image = cv2.imread(ipc_image_url)\n",
    "telltale_image = cv2.imread(seatbelt_image_url)\n",
    "\n",
    "ipc_image_gray = cv2.cvtColor(ipc_image, cv2.COLOR_BGR2GRAY)\n",
    "telltale_image_gray = cv2.cvtColor(telltale_image, cv2.COLOR_BGR2GRAY)\n",
    "\n",
    "#ipc_image_gray_cpy = np.copy(ipc_image_gray)\n",
    "\n",
    "#res = cv2.resize(ipc_image_gray_cpy,None,fx=0.9, fy=0.9, interpolation = cv.INTER_AREA)\n",
    "\n",
    "result = cv2.matchTemplate(ipc_image_gray, telltale_image_gray, cv2.TM_CCORR_NORMED)\n",
    "print(result)\n",
    "loc = np.where(result>=threshold)\n",
    "\n",
    "(h,w) = telltale_image_gray.shape\n",
    "\n",
    "for pt in zip(*loc[::-1]):\n",
    "    cv2.rectangle(ipc_image, pt, (pt[0] + w, pt[1] + h), (0,255,0), 2)\n",
    "\n",
    "\n",
    "#final = draw_rectangle(ipc_image, topleft, bottomright)\n",
    "cv2.imshow('detection', ipc_image)\n",
    "cv2.waitKey(0)\n",
    "cv2.destroyAllWindows()"
   ]
  },
  {
   "cell_type": "code",
   "execution_count": null,
   "metadata": {},
   "outputs": [],
   "source": []
  }
 ],
 "metadata": {
  "kernelspec": {
   "display_name": "Python 3",
   "language": "python",
   "name": "python3"
  },
  "language_info": {
   "codemirror_mode": {
    "name": "ipython",
    "version": 3
   },
   "file_extension": ".py",
   "mimetype": "text/x-python",
   "name": "python",
   "nbconvert_exporter": "python",
   "pygments_lexer": "ipython3",
   "version": "3.6.5"
  }
 },
 "nbformat": 4,
 "nbformat_minor": 2
}
