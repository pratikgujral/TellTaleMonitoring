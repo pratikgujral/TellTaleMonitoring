{
 "cells": [
  {
   "cell_type": "code",
   "execution_count": 1,
   "metadata": {},
   "outputs": [],
   "source": [
    "import cv2\n",
    "import numpy as np"
   ]
  },
  {
   "cell_type": "code",
   "execution_count": 2,
   "metadata": {},
   "outputs": [],
   "source": [
    "cap = cv2.VideoCapture(0)\n",
    "_, img = cap.read()\n",
    "cv2.imshow('image', img)\n",
    "cv2.waitKey(0)\n",
    "cap.release()\n",
    "cv2.destroyAllWindows()"
   ]
  },
  {
   "cell_type": "code",
   "execution_count": 3,
   "metadata": {},
   "outputs": [],
   "source": [
    "def save_initial():\n",
    "    '''Used to save initial picture of the speedometer to be later used for different computations. \n",
    "    Saves a \"reference.jpg\" file in the current working directory'''\n",
    "    try:\n",
    "        cap = cv2.VideoCapture(0)\n",
    "        while True:\n",
    "            _,frame = cap.read()\n",
    "            frame_gray = cv2.cvtColor(frame, cv2.COLOR_BGR2GRAY)\n",
    "            frame_gray_copy = np.copy(frame_gray)\n",
    "            cv2.putText(frame_gray_copy, \"Press 's' to save image\", (0,25), 2, 0.9, (255,255,255), 1, cv2.LINE_AA, False)\n",
    "            cv2.line(frame_gray_copy, (0,30), (frame_gray_copy.shape[1], 30), (255,255,255))\n",
    "            cv2.imshow('frame', frame_gray_copy)\n",
    "            k = cv2.waitKey(1) & 0xFF\n",
    "            if k in [115, 83]:\n",
    "                cv2.imwrite('reference.jpg', frame_gray)\n",
    "                print('Image Saved')\n",
    "                break\n",
    "            elif k == 27:\n",
    "                break\n",
    "    except:\n",
    "        print('An error has occurred.')\n",
    "    cap.release()\n",
    "    cv2.destroyAllWindows()"
   ]
  },
  {
   "cell_type": "code",
   "execution_count": 4,
   "metadata": {
    "scrolled": false
   },
   "outputs": [],
   "source": [
    "def compute_sum_thresh(frame, tolerance_percent=5):\n",
    "    return_value = {'pixel_sum':-1, 'lower_limit':-1, 'upper_limit':-1}\n",
    "    return_value['pixel_sum'] = np.sum(frame/ frame.size)\n",
    "    return_value['lower_limit'] = return_value['pixel_sum']*(1-tolerance_percent/100)\n",
    "    return_value['upper_limit'] = return_value['pixel_sum']*(1+tolerance_percent/100)\n",
    "    return return_value"
   ]
  },
  {
   "cell_type": "code",
   "execution_count": 5,
   "metadata": {},
   "outputs": [],
   "source": [
    "def compare(filename='reference.jpg'):\n",
    "    tolerance_percent = 3\n",
    "    # Read the image\n",
    "    reference_img = cv2.imread('reference.jpg',0)\n",
    "    cv2.imshow('Reference image', reference_img)\n",
    "    ref_img_values = compute_sum_thresh(reference_img, tolerance_percent)\n",
    "    print(\"\\nDisplaying reference image.\\nPress 'Esc' to exit, any other key to continue.\")\n",
    "    k = cv2.waitKey(0)\n",
    "    if k == 27:\n",
    "        cv2.destroyAllWindows()\n",
    "        return\n",
    "    \n",
    "    cap = cv2.VideoCapture(0)\n",
    "    while True:\n",
    "        _,frame = cap.read()\n",
    "        frame_gray = cv2.cvtColor(frame, cv2.COLOR_BGR2GRAY)\n",
    "        frame_values = compute_sum_thresh(frame_gray, tolerance_percent)\n",
    "        \n",
    "        if frame_values['pixel_sum'] > ref_img_values['upper_limit'] or frame_values['pixel_sum'] < ref_img_values['lower_limit']:\n",
    "            cv2.putText(frame, 'NG', (10,25), 2, 1.2, (0,0,255), 1, cv2.LINE_AA)\n",
    "        else:\n",
    "            cv2.putText(frame, 'OK', (10,25), 2, 1.2, (0,255,0), 1, cv2.LINE_AA)\n",
    "        cv2.imshow('Output', frame)\n",
    "        \n",
    "        k = cv2.waitKey(1) & 0xFF\n",
    "        if k == 27:\n",
    "            break\n",
    "    cv2.destroyAllWindows()"
   ]
  },
  {
   "cell_type": "code",
   "execution_count": 6,
   "metadata": {},
   "outputs": [
    {
     "name": "stdout",
     "output_type": "stream",
     "text": [
      "Image Saved\n"
     ]
    }
   ],
   "source": [
    "save_initial()"
   ]
  },
  {
   "cell_type": "code",
   "execution_count": 7,
   "metadata": {},
   "outputs": [
    {
     "name": "stdout",
     "output_type": "stream",
     "text": [
      "\n",
      "Displaying reference image.\n",
      "Press 'Esc' to exit, any other key to continue.\n"
     ]
    }
   ],
   "source": [
    "compare()"
   ]
  },
  {
   "cell_type": "code",
   "execution_count": null,
   "metadata": {},
   "outputs": [],
   "source": []
  }
 ],
 "metadata": {
  "kernelspec": {
   "display_name": "Python 3",
   "language": "python",
   "name": "python3"
  },
  "language_info": {
   "codemirror_mode": {
    "name": "ipython",
    "version": 3
   },
   "file_extension": ".py",
   "mimetype": "text/x-python",
   "name": "python",
   "nbconvert_exporter": "python",
   "pygments_lexer": "ipython3",
   "version": "3.6.4"
  }
 },
 "nbformat": 4,
 "nbformat_minor": 2
}
